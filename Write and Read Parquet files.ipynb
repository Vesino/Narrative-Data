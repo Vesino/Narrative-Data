{
 "cells": [
  {
   "cell_type": "code",
   "execution_count": 1,
   "id": "editorial-direction",
   "metadata": {},
   "outputs": [],
   "source": [
    "import pandas as pd\n",
    "import matplotlib.pyplot as plt\n",
    "import numpy as np"
   ]
  },
  {
   "cell_type": "code",
   "execution_count": 2,
   "id": "standing-federation",
   "metadata": {},
   "outputs": [],
   "source": [
    "path = './challenge_datasets/narrativewave_WTG_20201005_wtg10min_transform.csv'"
   ]
  },
  {
   "cell_type": "code",
   "execution_count": 3,
   "id": "accessory-commitment",
   "metadata": {},
   "outputs": [],
   "source": [
    "#pd.set_option('display.max_columns', None, 'display.max_rows', None)\n",
    "df = pd.read_csv(path)"
   ]
  },
  {
   "cell_type": "code",
   "execution_count": 4,
   "id": "liberal-membrane",
   "metadata": {},
   "outputs": [
    {
     "data": {
      "text/html": [
       "<div>\n",
       "<style scoped>\n",
       "    .dataframe tbody tr th:only-of-type {\n",
       "        vertical-align: middle;\n",
       "    }\n",
       "\n",
       "    .dataframe tbody tr th {\n",
       "        vertical-align: top;\n",
       "    }\n",
       "\n",
       "    .dataframe thead th {\n",
       "        text-align: right;\n",
       "    }\n",
       "</style>\n",
       "<table border=\"1\" class=\"dataframe\">\n",
       "  <thead>\n",
       "    <tr style=\"text-align: right;\">\n",
       "      <th></th>\n",
       "      <th>timestamp</th>\n",
       "      <th>tag</th>\n",
       "      <th>value</th>\n",
       "    </tr>\n",
       "  </thead>\n",
       "  <tbody>\n",
       "    <tr>\n",
       "      <th>0</th>\n",
       "      <td>2020-10-04 05:20:00+00:00</td>\n",
       "      <td>/narrativewave/WTG01/TimeStamp</td>\n",
       "      <td>2020-10-04 05:20:00+00:00</td>\n",
       "    </tr>\n",
       "    <tr>\n",
       "      <th>1</th>\n",
       "      <td>2020-10-04 05:20:00+00:00</td>\n",
       "      <td>/narrativewave/WTG03/TimeStamp</td>\n",
       "      <td>2020-10-04 05:20:00+00:00</td>\n",
       "    </tr>\n",
       "    <tr>\n",
       "      <th>2</th>\n",
       "      <td>2020-10-04 05:20:00+00:00</td>\n",
       "      <td>/narrativewave/WTG04/TimeStamp</td>\n",
       "      <td>2020-10-04 05:20:00+00:00</td>\n",
       "    </tr>\n",
       "    <tr>\n",
       "      <th>3</th>\n",
       "      <td>2020-10-04 05:20:00+00:00</td>\n",
       "      <td>/narrativewave/WTG05/TimeStamp</td>\n",
       "      <td>2020-10-04 05:20:00+00:00</td>\n",
       "    </tr>\n",
       "    <tr>\n",
       "      <th>4</th>\n",
       "      <td>2020-10-04 05:20:00+00:00</td>\n",
       "      <td>/narrativewave/WTG06/TimeStamp</td>\n",
       "      <td>2020-10-04 05:20:00+00:00</td>\n",
       "    </tr>\n",
       "    <tr>\n",
       "      <th>...</th>\n",
       "      <td>...</td>\n",
       "      <td>...</td>\n",
       "      <td>...</td>\n",
       "    </tr>\n",
       "    <tr>\n",
       "      <th>144265</th>\n",
       "      <td>2020-10-05 05:10:00+00:00</td>\n",
       "      <td>/narrativewave/WTG11/predictedpowertree</td>\n",
       "      <td>-16.01966286</td>\n",
       "    </tr>\n",
       "    <tr>\n",
       "      <th>144266</th>\n",
       "      <td>2020-10-05 05:10:00+00:00</td>\n",
       "      <td>/narrativewave/WTG13/predictedpowertree</td>\n",
       "      <td>-16.01966286</td>\n",
       "    </tr>\n",
       "    <tr>\n",
       "      <th>144267</th>\n",
       "      <td>2020-10-05 05:10:00+00:00</td>\n",
       "      <td>/narrativewave/WTG14/predictedpowertree</td>\n",
       "      <td>-16.01966286</td>\n",
       "    </tr>\n",
       "    <tr>\n",
       "      <th>144268</th>\n",
       "      <td>2020-10-05 05:10:00+00:00</td>\n",
       "      <td>/narrativewave/WTG15/predictedpowertree</td>\n",
       "      <td>-16.01966286</td>\n",
       "    </tr>\n",
       "    <tr>\n",
       "      <th>144269</th>\n",
       "      <td>2020-10-05 05:10:00+00:00</td>\n",
       "      <td>/narrativewave/WTG17/predictedpowertree</td>\n",
       "      <td>-16.01966286</td>\n",
       "    </tr>\n",
       "  </tbody>\n",
       "</table>\n",
       "<p>144270 rows × 3 columns</p>\n",
       "</div>"
      ],
      "text/plain": [
       "                        timestamp                                      tag  \\\n",
       "0       2020-10-04 05:20:00+00:00           /narrativewave/WTG01/TimeStamp   \n",
       "1       2020-10-04 05:20:00+00:00           /narrativewave/WTG03/TimeStamp   \n",
       "2       2020-10-04 05:20:00+00:00           /narrativewave/WTG04/TimeStamp   \n",
       "3       2020-10-04 05:20:00+00:00           /narrativewave/WTG05/TimeStamp   \n",
       "4       2020-10-04 05:20:00+00:00           /narrativewave/WTG06/TimeStamp   \n",
       "...                           ...                                      ...   \n",
       "144265  2020-10-05 05:10:00+00:00  /narrativewave/WTG11/predictedpowertree   \n",
       "144266  2020-10-05 05:10:00+00:00  /narrativewave/WTG13/predictedpowertree   \n",
       "144267  2020-10-05 05:10:00+00:00  /narrativewave/WTG14/predictedpowertree   \n",
       "144268  2020-10-05 05:10:00+00:00  /narrativewave/WTG15/predictedpowertree   \n",
       "144269  2020-10-05 05:10:00+00:00  /narrativewave/WTG17/predictedpowertree   \n",
       "\n",
       "                            value  \n",
       "0       2020-10-04 05:20:00+00:00  \n",
       "1       2020-10-04 05:20:00+00:00  \n",
       "2       2020-10-04 05:20:00+00:00  \n",
       "3       2020-10-04 05:20:00+00:00  \n",
       "4       2020-10-04 05:20:00+00:00  \n",
       "...                           ...  \n",
       "144265               -16.01966286  \n",
       "144266               -16.01966286  \n",
       "144267               -16.01966286  \n",
       "144268               -16.01966286  \n",
       "144269               -16.01966286  \n",
       "\n",
       "[144270 rows x 3 columns]"
      ]
     },
     "execution_count": 4,
     "metadata": {},
     "output_type": "execute_result"
    }
   ],
   "source": [
    "df"
   ]
  },
  {
   "cell_type": "code",
   "execution_count": 6,
   "id": "signal-crowd",
   "metadata": {},
   "outputs": [
    {
     "data": {
      "text/html": [
       "<div>\n",
       "<style scoped>\n",
       "    .dataframe tbody tr th:only-of-type {\n",
       "        vertical-align: middle;\n",
       "    }\n",
       "\n",
       "    .dataframe tbody tr th {\n",
       "        vertical-align: top;\n",
       "    }\n",
       "\n",
       "    .dataframe thead th {\n",
       "        text-align: right;\n",
       "    }\n",
       "</style>\n",
       "<table border=\"1\" class=\"dataframe\">\n",
       "  <thead>\n",
       "    <tr style=\"text-align: right;\">\n",
       "      <th></th>\n",
       "      <th>timestamp</th>\n",
       "      <th>tag</th>\n",
       "      <th>value</th>\n",
       "    </tr>\n",
       "  </thead>\n",
       "  <tbody>\n",
       "    <tr>\n",
       "      <th>0</th>\n",
       "      <td>2020-10-08 05:10:00+00:00</td>\n",
       "      <td>/narrativewave/WTG01/TimeStamp</td>\n",
       "      <td>2020-10-08 05:10:00+00:00</td>\n",
       "    </tr>\n",
       "    <tr>\n",
       "      <th>1</th>\n",
       "      <td>2020-10-08 05:10:00+00:00</td>\n",
       "      <td>/narrativewave/WTG06/TimeStamp</td>\n",
       "      <td>2020-10-08 05:10:00+00:00</td>\n",
       "    </tr>\n",
       "    <tr>\n",
       "      <th>2</th>\n",
       "      <td>2020-10-08 05:10:00+00:00</td>\n",
       "      <td>/narrativewave/WTG03/TimeStamp</td>\n",
       "      <td>2020-10-08 05:10:00+00:00</td>\n",
       "    </tr>\n",
       "    <tr>\n",
       "      <th>3</th>\n",
       "      <td>2020-10-08 05:10:00+00:00</td>\n",
       "      <td>/narrativewave/WTG07/TimeStamp</td>\n",
       "      <td>2020-10-08 05:10:00+00:00</td>\n",
       "    </tr>\n",
       "    <tr>\n",
       "      <th>4</th>\n",
       "      <td>2020-10-08 05:10:00+00:00</td>\n",
       "      <td>/narrativewave/WTG02/TimeStamp</td>\n",
       "      <td>2020-10-08 05:10:00+00:00</td>\n",
       "    </tr>\n",
       "    <tr>\n",
       "      <th>...</th>\n",
       "      <td>...</td>\n",
       "      <td>...</td>\n",
       "      <td>...</td>\n",
       "    </tr>\n",
       "    <tr>\n",
       "      <th>153841</th>\n",
       "      <td>2020-10-09 05:10:00+00:00</td>\n",
       "      <td>/narrativewave/WTG13/predictedpowertree</td>\n",
       "      <td>2334.566162</td>\n",
       "    </tr>\n",
       "    <tr>\n",
       "      <th>153842</th>\n",
       "      <td>2020-10-09 05:10:00+00:00</td>\n",
       "      <td>/narrativewave/WTG14/predictedpowertree</td>\n",
       "      <td>1790.206421</td>\n",
       "    </tr>\n",
       "    <tr>\n",
       "      <th>153843</th>\n",
       "      <td>2020-10-09 05:10:00+00:00</td>\n",
       "      <td>/narrativewave/WTG15/predictedpowertree</td>\n",
       "      <td>2220.784668</td>\n",
       "    </tr>\n",
       "    <tr>\n",
       "      <th>153844</th>\n",
       "      <td>2020-10-09 05:10:00+00:00</td>\n",
       "      <td>/narrativewave/WTG10/predictedpowertree</td>\n",
       "      <td>2734.158203</td>\n",
       "    </tr>\n",
       "    <tr>\n",
       "      <th>153845</th>\n",
       "      <td>2020-10-09 05:10:00+00:00</td>\n",
       "      <td>/narrativewave/WTG17/predictedpowertree</td>\n",
       "      <td>2334.566162</td>\n",
       "    </tr>\n",
       "  </tbody>\n",
       "</table>\n",
       "<p>153846 rows × 3 columns</p>\n",
       "</div>"
      ],
      "text/plain": [
       "                        timestamp                                      tag  \\\n",
       "0       2020-10-08 05:10:00+00:00           /narrativewave/WTG01/TimeStamp   \n",
       "1       2020-10-08 05:10:00+00:00           /narrativewave/WTG06/TimeStamp   \n",
       "2       2020-10-08 05:10:00+00:00           /narrativewave/WTG03/TimeStamp   \n",
       "3       2020-10-08 05:10:00+00:00           /narrativewave/WTG07/TimeStamp   \n",
       "4       2020-10-08 05:10:00+00:00           /narrativewave/WTG02/TimeStamp   \n",
       "...                           ...                                      ...   \n",
       "153841  2020-10-09 05:10:00+00:00  /narrativewave/WTG13/predictedpowertree   \n",
       "153842  2020-10-09 05:10:00+00:00  /narrativewave/WTG14/predictedpowertree   \n",
       "153843  2020-10-09 05:10:00+00:00  /narrativewave/WTG15/predictedpowertree   \n",
       "153844  2020-10-09 05:10:00+00:00  /narrativewave/WTG10/predictedpowertree   \n",
       "153845  2020-10-09 05:10:00+00:00  /narrativewave/WTG17/predictedpowertree   \n",
       "\n",
       "                            value  \n",
       "0       2020-10-08 05:10:00+00:00  \n",
       "1       2020-10-08 05:10:00+00:00  \n",
       "2       2020-10-08 05:10:00+00:00  \n",
       "3       2020-10-08 05:10:00+00:00  \n",
       "4       2020-10-08 05:10:00+00:00  \n",
       "...                           ...  \n",
       "153841                2334.566162  \n",
       "153842                1790.206421  \n",
       "153843                2220.784668  \n",
       "153844                2734.158203  \n",
       "153845                2334.566162  \n",
       "\n",
       "[153846 rows x 3 columns]"
      ]
     },
     "execution_count": 6,
     "metadata": {},
     "output_type": "execute_result"
    }
   ],
   "source": [
    "# Read the parquet generated in Django\n",
    "pd.read_parquet('df.parquet_HCZGXkQ.gzip')"
   ]
  },
  {
   "cell_type": "code",
   "execution_count": 7,
   "id": "angry-jackson",
   "metadata": {},
   "outputs": [],
   "source": [
    "df.to_parquet('df.parquet.gzip', compression='gzip')"
   ]
  },
  {
   "cell_type": "code",
   "execution_count": 8,
   "id": "blank-semester",
   "metadata": {},
   "outputs": [
    {
     "data": {
      "text/html": [
       "<div>\n",
       "<style scoped>\n",
       "    .dataframe tbody tr th:only-of-type {\n",
       "        vertical-align: middle;\n",
       "    }\n",
       "\n",
       "    .dataframe tbody tr th {\n",
       "        vertical-align: top;\n",
       "    }\n",
       "\n",
       "    .dataframe thead th {\n",
       "        text-align: right;\n",
       "    }\n",
       "</style>\n",
       "<table border=\"1\" class=\"dataframe\">\n",
       "  <thead>\n",
       "    <tr style=\"text-align: right;\">\n",
       "      <th></th>\n",
       "      <th>timestamp</th>\n",
       "      <th>tag</th>\n",
       "      <th>value</th>\n",
       "    </tr>\n",
       "  </thead>\n",
       "  <tbody>\n",
       "    <tr>\n",
       "      <th>0</th>\n",
       "      <td>2020-10-04 05:20:00+00:00</td>\n",
       "      <td>/narrativewave/WTG01/TimeStamp</td>\n",
       "      <td>2020-10-04 05:20:00+00:00</td>\n",
       "    </tr>\n",
       "    <tr>\n",
       "      <th>1</th>\n",
       "      <td>2020-10-04 05:20:00+00:00</td>\n",
       "      <td>/narrativewave/WTG03/TimeStamp</td>\n",
       "      <td>2020-10-04 05:20:00+00:00</td>\n",
       "    </tr>\n",
       "    <tr>\n",
       "      <th>2</th>\n",
       "      <td>2020-10-04 05:20:00+00:00</td>\n",
       "      <td>/narrativewave/WTG04/TimeStamp</td>\n",
       "      <td>2020-10-04 05:20:00+00:00</td>\n",
       "    </tr>\n",
       "    <tr>\n",
       "      <th>3</th>\n",
       "      <td>2020-10-04 05:20:00+00:00</td>\n",
       "      <td>/narrativewave/WTG05/TimeStamp</td>\n",
       "      <td>2020-10-04 05:20:00+00:00</td>\n",
       "    </tr>\n",
       "    <tr>\n",
       "      <th>4</th>\n",
       "      <td>2020-10-04 05:20:00+00:00</td>\n",
       "      <td>/narrativewave/WTG06/TimeStamp</td>\n",
       "      <td>2020-10-04 05:20:00+00:00</td>\n",
       "    </tr>\n",
       "    <tr>\n",
       "      <th>...</th>\n",
       "      <td>...</td>\n",
       "      <td>...</td>\n",
       "      <td>...</td>\n",
       "    </tr>\n",
       "    <tr>\n",
       "      <th>144265</th>\n",
       "      <td>2020-10-05 05:10:00+00:00</td>\n",
       "      <td>/narrativewave/WTG11/predictedpowertree</td>\n",
       "      <td>-16.01966286</td>\n",
       "    </tr>\n",
       "    <tr>\n",
       "      <th>144266</th>\n",
       "      <td>2020-10-05 05:10:00+00:00</td>\n",
       "      <td>/narrativewave/WTG13/predictedpowertree</td>\n",
       "      <td>-16.01966286</td>\n",
       "    </tr>\n",
       "    <tr>\n",
       "      <th>144267</th>\n",
       "      <td>2020-10-05 05:10:00+00:00</td>\n",
       "      <td>/narrativewave/WTG14/predictedpowertree</td>\n",
       "      <td>-16.01966286</td>\n",
       "    </tr>\n",
       "    <tr>\n",
       "      <th>144268</th>\n",
       "      <td>2020-10-05 05:10:00+00:00</td>\n",
       "      <td>/narrativewave/WTG15/predictedpowertree</td>\n",
       "      <td>-16.01966286</td>\n",
       "    </tr>\n",
       "    <tr>\n",
       "      <th>144269</th>\n",
       "      <td>2020-10-05 05:10:00+00:00</td>\n",
       "      <td>/narrativewave/WTG17/predictedpowertree</td>\n",
       "      <td>-16.01966286</td>\n",
       "    </tr>\n",
       "  </tbody>\n",
       "</table>\n",
       "<p>144270 rows × 3 columns</p>\n",
       "</div>"
      ],
      "text/plain": [
       "                        timestamp                                      tag  \\\n",
       "0       2020-10-04 05:20:00+00:00           /narrativewave/WTG01/TimeStamp   \n",
       "1       2020-10-04 05:20:00+00:00           /narrativewave/WTG03/TimeStamp   \n",
       "2       2020-10-04 05:20:00+00:00           /narrativewave/WTG04/TimeStamp   \n",
       "3       2020-10-04 05:20:00+00:00           /narrativewave/WTG05/TimeStamp   \n",
       "4       2020-10-04 05:20:00+00:00           /narrativewave/WTG06/TimeStamp   \n",
       "...                           ...                                      ...   \n",
       "144265  2020-10-05 05:10:00+00:00  /narrativewave/WTG11/predictedpowertree   \n",
       "144266  2020-10-05 05:10:00+00:00  /narrativewave/WTG13/predictedpowertree   \n",
       "144267  2020-10-05 05:10:00+00:00  /narrativewave/WTG14/predictedpowertree   \n",
       "144268  2020-10-05 05:10:00+00:00  /narrativewave/WTG15/predictedpowertree   \n",
       "144269  2020-10-05 05:10:00+00:00  /narrativewave/WTG17/predictedpowertree   \n",
       "\n",
       "                            value  \n",
       "0       2020-10-04 05:20:00+00:00  \n",
       "1       2020-10-04 05:20:00+00:00  \n",
       "2       2020-10-04 05:20:00+00:00  \n",
       "3       2020-10-04 05:20:00+00:00  \n",
       "4       2020-10-04 05:20:00+00:00  \n",
       "...                           ...  \n",
       "144265               -16.01966286  \n",
       "144266               -16.01966286  \n",
       "144267               -16.01966286  \n",
       "144268               -16.01966286  \n",
       "144269               -16.01966286  \n",
       "\n",
       "[144270 rows x 3 columns]"
      ]
     },
     "execution_count": 8,
     "metadata": {},
     "output_type": "execute_result"
    }
   ],
   "source": [
    "pd.read_parquet('df.parquet.gzip') "
   ]
  },
  {
   "cell_type": "code",
   "execution_count": 17,
   "id": "protected-spouse",
   "metadata": {},
   "outputs": [],
   "source": [
    "from pyspark.sql import SparkSession\n",
    "from pyspark import *"
   ]
  },
  {
   "cell_type": "code",
   "execution_count": 18,
   "id": "systematic-railway",
   "metadata": {},
   "outputs": [
    {
     "ename": "NameError",
     "evalue": "name 'spark' is not defined",
     "output_type": "error",
     "traceback": [
      "\u001b[0;31m---------------------------------------------------------------------------\u001b[0m",
      "\u001b[0;31mNameError\u001b[0m                                 Traceback (most recent call last)",
      "\u001b[0;32m<ipython-input-18-a17148096368>\u001b[0m in \u001b[0;36m<module>\u001b[0;34m\u001b[0m\n\u001b[0;32m----> 1\u001b[0;31m \u001b[0mdf_spark\u001b[0m \u001b[0;34m=\u001b[0m \u001b[0mspark\u001b[0m\u001b[0;34m.\u001b[0m\u001b[0mread\u001b[0m\u001b[0;34m.\u001b[0m\u001b[0mcsv\u001b[0m\u001b[0;34m(\u001b[0m\u001b[0mpath\u001b[0m\u001b[0;34m)\u001b[0m\u001b[0;34m\u001b[0m\u001b[0;34m\u001b[0m\u001b[0m\n\u001b[0m",
      "\u001b[0;31mNameError\u001b[0m: name 'spark' is not defined"
     ]
    }
   ],
   "source": [
    "df_spark = spark.read.csv(path)"
   ]
  },
  {
   "cell_type": "code",
   "execution_count": 11,
   "id": "miniature-poland",
   "metadata": {},
   "outputs": [
    {
     "ename": "Exception",
     "evalue": "Java gateway process exited before sending its port number",
     "output_type": "error",
     "traceback": [
      "\u001b[0;31m---------------------------------------------------------------------------\u001b[0m",
      "\u001b[0;31mException\u001b[0m                                 Traceback (most recent call last)",
      "\u001b[0;32m<ipython-input-11-987d860632fb>\u001b[0m in \u001b[0;36m<module>\u001b[0;34m\u001b[0m\n\u001b[1;32m      1\u001b[0m \u001b[0;31m# pyspark needs a dependency from Java :(\u001b[0m\u001b[0;34m\u001b[0m\u001b[0;34m\u001b[0m\u001b[0;34m\u001b[0m\u001b[0m\n\u001b[0;32m----> 2\u001b[0;31m \u001b[0mspark\u001b[0m \u001b[0;34m=\u001b[0m \u001b[0mSparkSession\u001b[0m\u001b[0;34m.\u001b[0m\u001b[0mbuilder\u001b[0m\u001b[0;31m \u001b[0m\u001b[0;31m\\\u001b[0m\u001b[0;34m\u001b[0m\u001b[0;34m\u001b[0m\u001b[0m\n\u001b[0m\u001b[1;32m      3\u001b[0m   \u001b[0;34m.\u001b[0m\u001b[0mmaster\u001b[0m\u001b[0;34m(\u001b[0m\u001b[0;34m\"local\"\u001b[0m\u001b[0;34m)\u001b[0m\u001b[0;31m \u001b[0m\u001b[0;31m\\\u001b[0m\u001b[0;34m\u001b[0m\u001b[0;34m\u001b[0m\u001b[0m\n\u001b[1;32m      4\u001b[0m   \u001b[0;34m.\u001b[0m\u001b[0mappName\u001b[0m\u001b[0;34m(\u001b[0m\u001b[0;34m\"parquet_example\"\u001b[0m\u001b[0;34m)\u001b[0m\u001b[0;31m \u001b[0m\u001b[0;31m\\\u001b[0m\u001b[0;34m\u001b[0m\u001b[0;34m\u001b[0m\u001b[0m\n\u001b[1;32m      5\u001b[0m   \u001b[0;34m.\u001b[0m\u001b[0mgetOrCreate\u001b[0m\u001b[0;34m(\u001b[0m\u001b[0;34m)\u001b[0m\u001b[0;34m\u001b[0m\u001b[0;34m\u001b[0m\u001b[0m\n",
      "\u001b[0;32m~/Desktop/NarrativeWave/env/lib/python3.8/site-packages/pyspark/sql/session.py\u001b[0m in \u001b[0;36mgetOrCreate\u001b[0;34m(self)\u001b[0m\n\u001b[1;32m    184\u001b[0m                             \u001b[0msparkConf\u001b[0m\u001b[0;34m.\u001b[0m\u001b[0mset\u001b[0m\u001b[0;34m(\u001b[0m\u001b[0mkey\u001b[0m\u001b[0;34m,\u001b[0m \u001b[0mvalue\u001b[0m\u001b[0;34m)\u001b[0m\u001b[0;34m\u001b[0m\u001b[0;34m\u001b[0m\u001b[0m\n\u001b[1;32m    185\u001b[0m                         \u001b[0;31m# This SparkContext may be an existing one.\u001b[0m\u001b[0;34m\u001b[0m\u001b[0;34m\u001b[0m\u001b[0;34m\u001b[0m\u001b[0m\n\u001b[0;32m--> 186\u001b[0;31m                         \u001b[0msc\u001b[0m \u001b[0;34m=\u001b[0m \u001b[0mSparkContext\u001b[0m\u001b[0;34m.\u001b[0m\u001b[0mgetOrCreate\u001b[0m\u001b[0;34m(\u001b[0m\u001b[0msparkConf\u001b[0m\u001b[0;34m)\u001b[0m\u001b[0;34m\u001b[0m\u001b[0;34m\u001b[0m\u001b[0m\n\u001b[0m\u001b[1;32m    187\u001b[0m                     \u001b[0;31m# Do not update `SparkConf` for existing `SparkContext`, as it's shared\u001b[0m\u001b[0;34m\u001b[0m\u001b[0;34m\u001b[0m\u001b[0;34m\u001b[0m\u001b[0m\n\u001b[1;32m    188\u001b[0m                     \u001b[0;31m# by all sessions.\u001b[0m\u001b[0;34m\u001b[0m\u001b[0;34m\u001b[0m\u001b[0;34m\u001b[0m\u001b[0m\n",
      "\u001b[0;32m~/Desktop/NarrativeWave/env/lib/python3.8/site-packages/pyspark/context.py\u001b[0m in \u001b[0;36mgetOrCreate\u001b[0;34m(cls, conf)\u001b[0m\n\u001b[1;32m    374\u001b[0m         \u001b[0;32mwith\u001b[0m \u001b[0mSparkContext\u001b[0m\u001b[0;34m.\u001b[0m\u001b[0m_lock\u001b[0m\u001b[0;34m:\u001b[0m\u001b[0;34m\u001b[0m\u001b[0;34m\u001b[0m\u001b[0m\n\u001b[1;32m    375\u001b[0m             \u001b[0;32mif\u001b[0m \u001b[0mSparkContext\u001b[0m\u001b[0;34m.\u001b[0m\u001b[0m_active_spark_context\u001b[0m \u001b[0;32mis\u001b[0m \u001b[0;32mNone\u001b[0m\u001b[0;34m:\u001b[0m\u001b[0;34m\u001b[0m\u001b[0;34m\u001b[0m\u001b[0m\n\u001b[0;32m--> 376\u001b[0;31m                 \u001b[0mSparkContext\u001b[0m\u001b[0;34m(\u001b[0m\u001b[0mconf\u001b[0m\u001b[0;34m=\u001b[0m\u001b[0mconf\u001b[0m \u001b[0;32mor\u001b[0m \u001b[0mSparkConf\u001b[0m\u001b[0;34m(\u001b[0m\u001b[0;34m)\u001b[0m\u001b[0;34m)\u001b[0m\u001b[0;34m\u001b[0m\u001b[0;34m\u001b[0m\u001b[0m\n\u001b[0m\u001b[1;32m    377\u001b[0m             \u001b[0;32mreturn\u001b[0m \u001b[0mSparkContext\u001b[0m\u001b[0;34m.\u001b[0m\u001b[0m_active_spark_context\u001b[0m\u001b[0;34m\u001b[0m\u001b[0;34m\u001b[0m\u001b[0m\n\u001b[1;32m    378\u001b[0m \u001b[0;34m\u001b[0m\u001b[0m\n",
      "\u001b[0;32m~/Desktop/NarrativeWave/env/lib/python3.8/site-packages/pyspark/context.py\u001b[0m in \u001b[0;36m__init__\u001b[0;34m(self, master, appName, sparkHome, pyFiles, environment, batchSize, serializer, conf, gateway, jsc, profiler_cls)\u001b[0m\n\u001b[1;32m    131\u001b[0m                 \" is not allowed as it is a security risk.\")\n\u001b[1;32m    132\u001b[0m \u001b[0;34m\u001b[0m\u001b[0m\n\u001b[0;32m--> 133\u001b[0;31m         \u001b[0mSparkContext\u001b[0m\u001b[0;34m.\u001b[0m\u001b[0m_ensure_initialized\u001b[0m\u001b[0;34m(\u001b[0m\u001b[0mself\u001b[0m\u001b[0;34m,\u001b[0m \u001b[0mgateway\u001b[0m\u001b[0;34m=\u001b[0m\u001b[0mgateway\u001b[0m\u001b[0;34m,\u001b[0m \u001b[0mconf\u001b[0m\u001b[0;34m=\u001b[0m\u001b[0mconf\u001b[0m\u001b[0;34m)\u001b[0m\u001b[0;34m\u001b[0m\u001b[0;34m\u001b[0m\u001b[0m\n\u001b[0m\u001b[1;32m    134\u001b[0m         \u001b[0;32mtry\u001b[0m\u001b[0;34m:\u001b[0m\u001b[0;34m\u001b[0m\u001b[0;34m\u001b[0m\u001b[0m\n\u001b[1;32m    135\u001b[0m             self._do_init(master, appName, sparkHome, pyFiles, environment, batchSize, serializer,\n",
      "\u001b[0;32m~/Desktop/NarrativeWave/env/lib/python3.8/site-packages/pyspark/context.py\u001b[0m in \u001b[0;36m_ensure_initialized\u001b[0;34m(cls, instance, gateway, conf)\u001b[0m\n\u001b[1;32m    323\u001b[0m         \u001b[0;32mwith\u001b[0m \u001b[0mSparkContext\u001b[0m\u001b[0;34m.\u001b[0m\u001b[0m_lock\u001b[0m\u001b[0;34m:\u001b[0m\u001b[0;34m\u001b[0m\u001b[0;34m\u001b[0m\u001b[0m\n\u001b[1;32m    324\u001b[0m             \u001b[0;32mif\u001b[0m \u001b[0;32mnot\u001b[0m \u001b[0mSparkContext\u001b[0m\u001b[0;34m.\u001b[0m\u001b[0m_gateway\u001b[0m\u001b[0;34m:\u001b[0m\u001b[0;34m\u001b[0m\u001b[0;34m\u001b[0m\u001b[0m\n\u001b[0;32m--> 325\u001b[0;31m                 \u001b[0mSparkContext\u001b[0m\u001b[0;34m.\u001b[0m\u001b[0m_gateway\u001b[0m \u001b[0;34m=\u001b[0m \u001b[0mgateway\u001b[0m \u001b[0;32mor\u001b[0m \u001b[0mlaunch_gateway\u001b[0m\u001b[0;34m(\u001b[0m\u001b[0mconf\u001b[0m\u001b[0;34m)\u001b[0m\u001b[0;34m\u001b[0m\u001b[0;34m\u001b[0m\u001b[0m\n\u001b[0m\u001b[1;32m    326\u001b[0m                 \u001b[0mSparkContext\u001b[0m\u001b[0;34m.\u001b[0m\u001b[0m_jvm\u001b[0m \u001b[0;34m=\u001b[0m \u001b[0mSparkContext\u001b[0m\u001b[0;34m.\u001b[0m\u001b[0m_gateway\u001b[0m\u001b[0;34m.\u001b[0m\u001b[0mjvm\u001b[0m\u001b[0;34m\u001b[0m\u001b[0;34m\u001b[0m\u001b[0m\n\u001b[1;32m    327\u001b[0m \u001b[0;34m\u001b[0m\u001b[0m\n",
      "\u001b[0;32m~/Desktop/NarrativeWave/env/lib/python3.8/site-packages/pyspark/java_gateway.py\u001b[0m in \u001b[0;36mlaunch_gateway\u001b[0;34m(conf, popen_kwargs)\u001b[0m\n\u001b[1;32m    103\u001b[0m \u001b[0;34m\u001b[0m\u001b[0m\n\u001b[1;32m    104\u001b[0m             \u001b[0;32mif\u001b[0m \u001b[0;32mnot\u001b[0m \u001b[0mos\u001b[0m\u001b[0;34m.\u001b[0m\u001b[0mpath\u001b[0m\u001b[0;34m.\u001b[0m\u001b[0misfile\u001b[0m\u001b[0;34m(\u001b[0m\u001b[0mconn_info_file\u001b[0m\u001b[0;34m)\u001b[0m\u001b[0;34m:\u001b[0m\u001b[0;34m\u001b[0m\u001b[0;34m\u001b[0m\u001b[0m\n\u001b[0;32m--> 105\u001b[0;31m                 \u001b[0;32mraise\u001b[0m \u001b[0mException\u001b[0m\u001b[0;34m(\u001b[0m\u001b[0;34m\"Java gateway process exited before sending its port number\"\u001b[0m\u001b[0;34m)\u001b[0m\u001b[0;34m\u001b[0m\u001b[0;34m\u001b[0m\u001b[0m\n\u001b[0m\u001b[1;32m    106\u001b[0m \u001b[0;34m\u001b[0m\u001b[0m\n\u001b[1;32m    107\u001b[0m             \u001b[0;32mwith\u001b[0m \u001b[0mopen\u001b[0m\u001b[0;34m(\u001b[0m\u001b[0mconn_info_file\u001b[0m\u001b[0;34m,\u001b[0m \u001b[0;34m\"rb\"\u001b[0m\u001b[0;34m)\u001b[0m \u001b[0;32mas\u001b[0m \u001b[0minfo\u001b[0m\u001b[0;34m:\u001b[0m\u001b[0;34m\u001b[0m\u001b[0;34m\u001b[0m\u001b[0m\n",
      "\u001b[0;31mException\u001b[0m: Java gateway process exited before sending its port number"
     ]
    }
   ],
   "source": [
    "# pyspark needs a dependency from Java :(\n",
    "spark = SparkSession.builder \\\n",
    "  .master(\"local\") \\\n",
    "  .appName(\"parquet_example\") \\\n",
    "  .getOrCreate()\n",
    "\n",
    "df = spark.read.csv(path, header = True)\n",
    "df.repartition(1).write.mode('overwrite').parquet('tmp/pyspark_us_presidents')"
   ]
  },
  {
   "cell_type": "code",
   "execution_count": 15,
   "id": "received-transfer",
   "metadata": {},
   "outputs": [
    {
     "ename": "ImportError",
     "evalue": "Dask dataframe requirements are not installed.\n\nPlease either conda or pip install as follows:\n\n  conda install dask                     # either conda install\n  python -m pip install \"dask[dataframe]\" --upgrade  # or python -m pip install",
     "output_type": "error",
     "traceback": [
      "\u001b[0;31m---------------------------------------------------------------------------\u001b[0m",
      "\u001b[0;31mImportError\u001b[0m                               Traceback (most recent call last)",
      "\u001b[0;32m~/Desktop/NarrativeWave/env/lib/python3.8/site-packages/dask/array/__init__.py\u001b[0m in \u001b[0;36m<module>\u001b[0;34m\u001b[0m\n\u001b[1;32m      1\u001b[0m \u001b[0;32mtry\u001b[0m\u001b[0;34m:\u001b[0m\u001b[0;34m\u001b[0m\u001b[0;34m\u001b[0m\u001b[0m\n\u001b[0;32m----> 2\u001b[0;31m     \u001b[0;32mfrom\u001b[0m \u001b[0;34m.\u001b[0m\u001b[0mblockwise\u001b[0m \u001b[0;32mimport\u001b[0m \u001b[0mblockwise\u001b[0m\u001b[0;34m,\u001b[0m \u001b[0matop\u001b[0m\u001b[0;34m\u001b[0m\u001b[0;34m\u001b[0m\u001b[0m\n\u001b[0m\u001b[1;32m      3\u001b[0m     from .core import (\n",
      "\u001b[0;32m~/Desktop/NarrativeWave/env/lib/python3.8/site-packages/dask/array/blockwise.py\u001b[0m in \u001b[0;36m<module>\u001b[0;34m\u001b[0m\n\u001b[1;32m    287\u001b[0m \u001b[0;34m\u001b[0m\u001b[0m\n\u001b[0;32m--> 288\u001b[0;31m \u001b[0;32mfrom\u001b[0m \u001b[0;34m.\u001b[0m\u001b[0mcore\u001b[0m \u001b[0;32mimport\u001b[0m \u001b[0mnew_da_object\u001b[0m\u001b[0;34m\u001b[0m\u001b[0;34m\u001b[0m\u001b[0m\n\u001b[0m",
      "\u001b[0;32m~/Desktop/NarrativeWave/env/lib/python3.8/site-packages/dask/array/core.py\u001b[0m in \u001b[0;36m<module>\u001b[0;34m\u001b[0m\n\u001b[1;32m     22\u001b[0m \u001b[0;32mfrom\u001b[0m \u001b[0;34m.\u001b[0m \u001b[0;32mimport\u001b[0m \u001b[0mchunk\u001b[0m\u001b[0;34m\u001b[0m\u001b[0;34m\u001b[0m\u001b[0m\n\u001b[0;32m---> 23\u001b[0;31m \u001b[0;32mfrom\u001b[0m \u001b[0;34m.\u001b[0m\u001b[0;34m.\u001b[0m \u001b[0;32mimport\u001b[0m \u001b[0mconfig\u001b[0m\u001b[0;34m,\u001b[0m \u001b[0mcompute\u001b[0m\u001b[0;34m\u001b[0m\u001b[0;34m\u001b[0m\u001b[0m\n\u001b[0m\u001b[1;32m     24\u001b[0m from ..base import (\n",
      "\u001b[0;31mImportError\u001b[0m: cannot import name 'compute' from 'dask' (/Users/luisvargas/Desktop/NarrativeWave/env/lib/python3.8/site-packages/dask/__init__.py)",
      "\nThe above exception was the direct cause of the following exception:\n",
      "\u001b[0;31mImportError\u001b[0m                               Traceback (most recent call last)",
      "\u001b[0;32m~/Desktop/NarrativeWave/env/lib/python3.8/site-packages/dask/dataframe/__init__.py\u001b[0m in \u001b[0;36m<module>\u001b[0;34m\u001b[0m\n\u001b[1;32m      1\u001b[0m \u001b[0;32mtry\u001b[0m\u001b[0;34m:\u001b[0m\u001b[0;34m\u001b[0m\u001b[0;34m\u001b[0m\u001b[0m\n\u001b[0;32m----> 2\u001b[0;31m     from .core import (\n\u001b[0m\u001b[1;32m      3\u001b[0m         \u001b[0mDataFrame\u001b[0m\u001b[0;34m,\u001b[0m\u001b[0;34m\u001b[0m\u001b[0;34m\u001b[0m\u001b[0m\n",
      "\u001b[0;32m~/Desktop/NarrativeWave/env/lib/python3.8/site-packages/dask/dataframe/core.py\u001b[0m in \u001b[0;36m<module>\u001b[0;34m\u001b[0m\n\u001b[1;32m     25\u001b[0m \u001b[0;34m\u001b[0m\u001b[0m\n\u001b[0;32m---> 26\u001b[0;31m \u001b[0;32mfrom\u001b[0m \u001b[0;34m.\u001b[0m\u001b[0;34m.\u001b[0m \u001b[0;32mimport\u001b[0m \u001b[0marray\u001b[0m \u001b[0;32mas\u001b[0m \u001b[0mda\u001b[0m\u001b[0;34m\u001b[0m\u001b[0;34m\u001b[0m\u001b[0m\n\u001b[0m\u001b[1;32m     27\u001b[0m \u001b[0;32mfrom\u001b[0m \u001b[0;34m.\u001b[0m\u001b[0;34m.\u001b[0m \u001b[0;32mimport\u001b[0m \u001b[0mcore\u001b[0m\u001b[0;34m\u001b[0m\u001b[0;34m\u001b[0m\u001b[0m\n",
      "\u001b[0;32m~/Desktop/NarrativeWave/env/lib/python3.8/site-packages/dask/array/__init__.py\u001b[0m in \u001b[0;36m<module>\u001b[0;34m\u001b[0m\n\u001b[1;32m    252\u001b[0m     )\n\u001b[0;32m--> 253\u001b[0;31m     \u001b[0;32mraise\u001b[0m \u001b[0mImportError\u001b[0m\u001b[0;34m(\u001b[0m\u001b[0mstr\u001b[0m\u001b[0;34m(\u001b[0m\u001b[0me\u001b[0m\u001b[0;34m)\u001b[0m \u001b[0;34m+\u001b[0m \u001b[0;34m\"\\n\\n\"\u001b[0m \u001b[0;34m+\u001b[0m \u001b[0mmsg\u001b[0m\u001b[0;34m)\u001b[0m \u001b[0;32mfrom\u001b[0m \u001b[0me\u001b[0m\u001b[0;34m\u001b[0m\u001b[0;34m\u001b[0m\u001b[0m\n\u001b[0m",
      "\u001b[0;31mImportError\u001b[0m: cannot import name 'compute' from 'dask' (/Users/luisvargas/Desktop/NarrativeWave/env/lib/python3.8/site-packages/dask/__init__.py)\n\nDask array requirements are not installed.\n\nPlease either conda or pip install as follows:\n\n  conda install dask                 # either conda install\n  python -m pip install \"dask[array]\" --upgrade  # or python -m pip install",
      "\nThe above exception was the direct cause of the following exception:\n",
      "\u001b[0;31mImportError\u001b[0m                               Traceback (most recent call last)",
      "\u001b[0;32m<ipython-input-15-420aeb5f905d>\u001b[0m in \u001b[0;36m<module>\u001b[0;34m\u001b[0m\n\u001b[0;32m----> 1\u001b[0;31m \u001b[0;32mimport\u001b[0m \u001b[0mdask\u001b[0m\u001b[0;34m.\u001b[0m\u001b[0mdataframe\u001b[0m \u001b[0;32mas\u001b[0m \u001b[0mdd\u001b[0m\u001b[0;34m\u001b[0m\u001b[0;34m\u001b[0m\u001b[0m\n\u001b[0m",
      "\u001b[0;32m~/Desktop/NarrativeWave/env/lib/python3.8/site-packages/dask/dataframe/__init__.py\u001b[0m in \u001b[0;36m<module>\u001b[0;34m\u001b[0m\n\u001b[1;32m     55\u001b[0m         \u001b[0;34m'  python -m pip install \"dask[dataframe]\" --upgrade  # or python -m pip install'\u001b[0m\u001b[0;34m\u001b[0m\u001b[0;34m\u001b[0m\u001b[0m\n\u001b[1;32m     56\u001b[0m     )\n\u001b[0;32m---> 57\u001b[0;31m     \u001b[0;32mraise\u001b[0m \u001b[0mImportError\u001b[0m\u001b[0;34m(\u001b[0m\u001b[0mmsg\u001b[0m\u001b[0;34m)\u001b[0m \u001b[0;32mfrom\u001b[0m \u001b[0me\u001b[0m\u001b[0;34m\u001b[0m\u001b[0;34m\u001b[0m\u001b[0m\n\u001b[0m",
      "\u001b[0;31mImportError\u001b[0m: Dask dataframe requirements are not installed.\n\nPlease either conda or pip install as follows:\n\n  conda install dask                     # either conda install\n  python -m pip install \"dask[dataframe]\" --upgrade  # or python -m pip install"
     ]
    }
   ],
   "source": [
    "import dask.dataframe as dd"
   ]
  },
  {
   "cell_type": "markdown",
   "id": "seeing-westminster",
   "metadata": {},
   "source": [
    "#### Split the path"
   ]
  },
  {
   "cell_type": "code",
   "execution_count": 19,
   "id": "available-rider",
   "metadata": {},
   "outputs": [
    {
     "data": {
      "text/plain": [
       "'./challenge_datasets/narrativewave_WTG_20201005_wtg10min_transform.csv'"
      ]
     },
     "execution_count": 19,
     "metadata": {},
     "output_type": "execute_result"
    }
   ],
   "source": [
    "path"
   ]
  },
  {
   "cell_type": "code",
   "execution_count": 20,
   "id": "pending-night",
   "metadata": {},
   "outputs": [
    {
     "data": {
      "text/plain": [
       "['./challenge_datasets/narrativewave_WTG_20201005_wtg10min_transform.csv']"
      ]
     },
     "execution_count": 20,
     "metadata": {},
     "output_type": "execute_result"
    }
   ],
   "source": [
    "path.splitlines()"
   ]
  },
  {
   "cell_type": "code",
   "execution_count": 34,
   "id": "fitted-manor",
   "metadata": {},
   "outputs": [
    {
     "data": {
      "text/plain": [
       "['.', 'challenge_datasets']"
      ]
     },
     "execution_count": 34,
     "metadata": {},
     "output_type": "execute_result"
    }
   ],
   "source": [
    "rls = path.split('/')[:-1]\n",
    "rls"
   ]
  },
  {
   "cell_type": "code",
   "execution_count": null,
   "id": "olympic-terminal",
   "metadata": {},
   "outputs": [],
   "source": [
    "new_path = "
   ]
  }
 ],
 "metadata": {
  "kernelspec": {
   "display_name": "Python 3",
   "language": "python",
   "name": "python3"
  },
  "language_info": {
   "codemirror_mode": {
    "name": "ipython",
    "version": 3
   },
   "file_extension": ".py",
   "mimetype": "text/x-python",
   "name": "python",
   "nbconvert_exporter": "python",
   "pygments_lexer": "ipython3",
   "version": "3.8.3"
  }
 },
 "nbformat": 4,
 "nbformat_minor": 5
}
